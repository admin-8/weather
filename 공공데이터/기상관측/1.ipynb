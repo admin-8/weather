{
 "cells": [
  {
   "cell_type": "code",
   "execution_count": 3,
   "metadata": {},
   "outputs": [],
   "source": [
    "import requests\n",
    "import pandas as pd\n",
    "import json\n",
    "from pandas.io.json import json_normalize\n",
    "from ast import literal_eval\n",
    "import urllib.parse as urlparse\n",
    "import time\n",
    "\n",
    "import warnings\n",
    "warnings.filterwarnings('ignore')\n",
    "\n",
    "\n",
    "def get_request_query(url, operation, numofrows, pageno, datatype, params, codename, code, serviceKey):\n",
    "    params = literal_eval(params)\n",
    "    params = urlparse.urlencode(params)\n",
    "    request_query = []\n",
    "    for i in range(len(code)):\n",
    "        full_url = url + \"/\" + operation + \"?\" + \"serviceKey=\" + serviceKey + \"&pageNo=\" + pageno + \"&numOfRows=\" + numofrows + \"&dataType=\" + datatype + \"&\" + params + \"&\" + codename + \"=\" + \\\n",
    "                   code[i] + \"&\"\n",
    "    request_query.append(full_url)\n",
    "\n",
    "    \n",
    "    return request_query\n",
    "\n",
    "\n",
    "def loop_request_query(request_query):\n",
    "    for query in request_query:\n",
    "        response = requests.get(url=query)\n",
    "    return response\n",
    "\n",
    "\n",
    "def json_response(response):\n",
    "    json_ = response.text\n",
    "    json_object = json.loads(json_)\n",
    "    return json_object\n",
    "\n",
    "\n",
    "def get_dataframe(json_object):\n",
    "    df = json_normalize(json_object['response']['body']['items']['item'])\n",
    "    return df\n",
    "\n",
    "\n",
    "def main():\n",
    "    URL = str(input(\"URL 주소를 입력하시오: \"))\n",
    "    API_KEY = str(input(\"인증키를 입력하시오: \"))\n",
    "    OPERATION = str(input(\"상세기능명을 입력하시오(영문): \"))\n",
    "    NUMOFROWS = str(input(\"한 페이지에 노출할 결과 수를 입력하시오: \"))\n",
    "    PAGENO = str(input(\"페이지 번호를 입력하시오: \"))\n",
    "    DATATYPE = str(input(\"데이터 타입을 입력하시오: \"))\n",
    "    PARAMS_KEY = list(input(\"항목명을 공백으로 구분하여 입력하시오: \").split())\n",
    "    PARAMS_VALUE = list(input(\"항목값을 공백으로 구분하여 입력하시오: \").split())\n",
    "    PARAMS = str(dict(zip(PARAMS_KEY, PARAMS_VALUE)))\n",
    "    CODENAME = str(input('지점번호, 지역코드와 관련된 항목명을 입력하시오: '))\n",
    "    CODE = list(input('지점번호, 지역코드를 입력하시오: ').split())\n",
    "\n",
    "    request_query = get_request_query(URL, OPERATION, NUMOFROWS, PAGENO, DATATYPE, PARAMS, CODENAME, CODE, API_KEY)\n",
    "    print(request_query)\n",
    "\n",
    "    response = loop_request_query(request_query)\n",
    "\n",
    "    json_object = json_response(response)\n",
    "\n",
    "    df = get_dataframe(json_object)\n",
    "    time.sleep(3)\n",
    "    df_name = input(\"파일명을 입력하시오: \")\n",
    "    df.to_csv('data/' + df_name + '.csv', index=False, encoding='cp949')\n",
    "    df_describe = df.describe()\n",
    "    df_describe.to_csv('data/' + df_name + '_describe.csv', index=True, encoding='cp949')"
   ]
  },
  {
   "cell_type": "code",
   "execution_count": 4,
   "metadata": {},
   "outputs": [
    {
     "name": "stdout",
     "output_type": "stream",
     "text": [
      "URL 주소를 입력하시오: http://apis.data.go.kr/1360000/AsosDalyInfoService\n",
      "인증키를 입력하시오: 0VPHiLnleAB93gjILfRfKRQcBuFBbb9XArHRML7HRiBSrkUV4GZxTwOsm%2Fm%2FloyDIFYPsLSoNQFg2j%2FAfxNfnQ%3D%3D\n",
      "상세기능명을 입력하시오(영문): getWthrDataList\n",
      "한 페이지에 노출할 결과 수를 입력하시오: 999\n",
      "페이지 번호를 입력하시오: 1\n",
      "데이터 타입을 입력하시오: JSON\n",
      "항목명을 공백으로 구분하여 입력하시오: dataCd dateCd startDt endDt\n",
      "항목값을 공백으로 구분하여 입력하시오: ASOS DAY 20200101 20200701\n",
      "지점번호, 지역코드와 관련된 항목명을 입력하시오: stnlds\n",
      "지점번호, 지역코드를 입력하시오: 108\n",
      "['http://apis.data.go.kr/1360000/AsosDalyInfoService/getWthrDataList?serviceKey=0VPHiLnleAB93gjILfRfKRQcBuFBbb9XArHRML7HRiBSrkUV4GZxTwOsm%2Fm%2FloyDIFYPsLSoNQFg2j%2FAfxNfnQ%3D%3D&pageNo=1&numOfRows=999&dataType=JSON&dataCd=ASOS&dateCd=DAY&startDt=20200101&endDt=20200701&stnlds=108&']\n"
     ]
    },
    {
     "ename": "KeyError",
     "evalue": "'body'",
     "output_type": "error",
     "traceback": [
      "\u001b[1;31m---------------------------------------------------------------------------\u001b[0m",
      "\u001b[1;31mKeyError\u001b[0m                                  Traceback (most recent call last)",
      "\u001b[1;32m<ipython-input-4-263240bbee7e>\u001b[0m in \u001b[0;36m<module>\u001b[1;34m\u001b[0m\n\u001b[1;32m----> 1\u001b[1;33m \u001b[0mmain\u001b[0m\u001b[1;33m(\u001b[0m\u001b[1;33m)\u001b[0m\u001b[1;33m\u001b[0m\u001b[1;33m\u001b[0m\u001b[0m\n\u001b[0m",
      "\u001b[1;32m<ipython-input-3-e5c764a9e647>\u001b[0m in \u001b[0;36mmain\u001b[1;34m()\u001b[0m\n\u001b[0;32m     61\u001b[0m     \u001b[0mjson_object\u001b[0m \u001b[1;33m=\u001b[0m \u001b[0mjson_response\u001b[0m\u001b[1;33m(\u001b[0m\u001b[0mresponse\u001b[0m\u001b[1;33m)\u001b[0m\u001b[1;33m\u001b[0m\u001b[1;33m\u001b[0m\u001b[0m\n\u001b[0;32m     62\u001b[0m \u001b[1;33m\u001b[0m\u001b[0m\n\u001b[1;32m---> 63\u001b[1;33m     \u001b[0mdf\u001b[0m \u001b[1;33m=\u001b[0m \u001b[0mget_dataframe\u001b[0m\u001b[1;33m(\u001b[0m\u001b[0mjson_object\u001b[0m\u001b[1;33m)\u001b[0m\u001b[1;33m\u001b[0m\u001b[1;33m\u001b[0m\u001b[0m\n\u001b[0m\u001b[0;32m     64\u001b[0m     \u001b[0mtime\u001b[0m\u001b[1;33m.\u001b[0m\u001b[0msleep\u001b[0m\u001b[1;33m(\u001b[0m\u001b[1;36m3\u001b[0m\u001b[1;33m)\u001b[0m\u001b[1;33m\u001b[0m\u001b[1;33m\u001b[0m\u001b[0m\n\u001b[0;32m     65\u001b[0m     \u001b[0mdf_name\u001b[0m \u001b[1;33m=\u001b[0m \u001b[0minput\u001b[0m\u001b[1;33m(\u001b[0m\u001b[1;34m\"파일명을 입력하시오: \"\u001b[0m\u001b[1;33m)\u001b[0m\u001b[1;33m\u001b[0m\u001b[1;33m\u001b[0m\u001b[0m\n",
      "\u001b[1;32m<ipython-input-3-e5c764a9e647>\u001b[0m in \u001b[0;36mget_dataframe\u001b[1;34m(json_object)\u001b[0m\n\u001b[0;32m     37\u001b[0m \u001b[1;33m\u001b[0m\u001b[0m\n\u001b[0;32m     38\u001b[0m \u001b[1;32mdef\u001b[0m \u001b[0mget_dataframe\u001b[0m\u001b[1;33m(\u001b[0m\u001b[0mjson_object\u001b[0m\u001b[1;33m)\u001b[0m\u001b[1;33m:\u001b[0m\u001b[1;33m\u001b[0m\u001b[1;33m\u001b[0m\u001b[0m\n\u001b[1;32m---> 39\u001b[1;33m     \u001b[0mdf\u001b[0m \u001b[1;33m=\u001b[0m \u001b[0mjson_normalize\u001b[0m\u001b[1;33m(\u001b[0m\u001b[0mjson_object\u001b[0m\u001b[1;33m[\u001b[0m\u001b[1;34m'response'\u001b[0m\u001b[1;33m]\u001b[0m\u001b[1;33m[\u001b[0m\u001b[1;34m'body'\u001b[0m\u001b[1;33m]\u001b[0m\u001b[1;33m[\u001b[0m\u001b[1;34m'items'\u001b[0m\u001b[1;33m]\u001b[0m\u001b[1;33m[\u001b[0m\u001b[1;34m'item'\u001b[0m\u001b[1;33m]\u001b[0m\u001b[1;33m)\u001b[0m\u001b[1;33m\u001b[0m\u001b[1;33m\u001b[0m\u001b[0m\n\u001b[0m\u001b[0;32m     40\u001b[0m     \u001b[1;32mreturn\u001b[0m \u001b[0mdf\u001b[0m\u001b[1;33m\u001b[0m\u001b[1;33m\u001b[0m\u001b[0m\n\u001b[0;32m     41\u001b[0m \u001b[1;33m\u001b[0m\u001b[0m\n",
      "\u001b[1;31mKeyError\u001b[0m: 'body'"
     ]
    }
   ],
   "source": [
    "main()"
   ]
  },
  {
   "cell_type": "code",
   "execution_count": null,
   "metadata": {},
   "outputs": [],
   "source": [
    "20"
   ]
  },
  {
   "cell_type": "code",
   "execution_count": null,
   "metadata": {},
   "outputs": [],
   "source": []
  },
  {
   "cell_type": "code",
   "execution_count": null,
   "metadata": {},
   "outputs": [],
   "source": []
  },
  {
   "cell_type": "code",
   "execution_count": null,
   "metadata": {},
   "outputs": [],
   "source": []
  },
  {
   "cell_type": "code",
   "execution_count": null,
   "metadata": {},
   "outputs": [],
   "source": []
  },
  {
   "cell_type": "code",
   "execution_count": null,
   "metadata": {},
   "outputs": [],
   "source": []
  },
  {
   "cell_type": "code",
   "execution_count": null,
   "metadata": {},
   "outputs": [],
   "source": []
  },
  {
   "cell_type": "code",
   "execution_count": null,
   "metadata": {},
   "outputs": [],
   "source": []
  },
  {
   "cell_type": "code",
   "execution_count": null,
   "metadata": {},
   "outputs": [],
   "source": []
  },
  {
   "cell_type": "code",
   "execution_count": null,
   "metadata": {},
   "outputs": [],
   "source": []
  },
  {
   "cell_type": "code",
   "execution_count": null,
   "metadata": {},
   "outputs": [],
   "source": []
  }
 ],
 "metadata": {
  "kernelspec": {
   "display_name": "Python 3",
   "language": "python",
   "name": "python3"
  }
 },
 "nbformat": 4,
 "nbformat_minor": 4
}
