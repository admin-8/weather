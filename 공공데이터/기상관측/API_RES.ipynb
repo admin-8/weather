{
 "cells": [
  {
   "cell_type": "code",
   "execution_count": 16,
   "metadata": {},
   "outputs": [],
   "source": [
    "# 사용 라이브러리\n",
    "import requests\n",
    "import pandas as pd\n",
    "import json\n",
    "from pandas.io.json import json_normalize\n",
    "from ast import literal_eval\n",
    "import urllib.parse as urlparse\n",
    "import time\n",
    "\n",
    "import warnings\n",
    "warnings.filterwarnings('ignore')"
   ]
  },
  {
   "cell_type": "code",
   "execution_count": 17,
   "metadata": {},
   "outputs": [],
   "source": [
    "# API 요청 파라미터 입력\n",
    "def get_data():\n",
    "    from ast import literal_eval\n",
    "    URL = str(input(\"URL 주소를 입력하시오: \"))\n",
    "    API_KEY = str(input(\"인증키를 입력하시오: \"))\n",
    "    OPERATION = str(input(\"상세기능명을 입력하시오(영문): \"))\n",
    "    NUMOFROWS = str(input(\"한 페이지에 노출할 결과 수를 입력하시오: \"))\n",
    "    PAGENO = str(input(\"페이지 번호를 입력하시오: \"))\n",
    "    DATATYPE = \"XML\"\n",
    "    PARAMS_KEY = list(input(\"필수 파라미터명 공백으로 구분하여 입력하시오: \").split())\n",
    "    PARAMS_VALUE = list(input(\"필수 파라미터값 공백으로 구분하여 입력하시오: \").split())\n",
    "    PARAMS_STR = str(dict(zip(PARAMS_KEY, PARAMS_VALUE)))\n",
    "    PARAMS = literal_eval(PARAMS_STR)\n",
    "    CODENAME = str(input('지점번호, 지역코드와 관련된 항목명을 입력하시오: '))\n",
    "    CODE = list(input('지점번호, 지역코드를 입력하시오: ').split())\n",
    "\n",
    "    request_query = get_request_query(URL, OPERATION, PAGENO, NUMOFROWS, DATATYPE, PARAMS, CODENAME, CODE, API_KEY)\n",
    "    print(request_query)\n",
    "    return request_query"
   ]
  },
  {
   "cell_type": "code",
   "execution_count": 3,
   "metadata": {},
   "outputs": [],
   "source": [
    "# API URL 요청\n",
    "def get_request_query(url, operation, pageno, numofrows, datatype, params, codename, code, serviceKey):\n",
    "    import urllib.parse as urlparse\n",
    "    params = urlparse.urlencode(params)\n",
    "    request_query = []\n",
    "    for i in range(len(code)):\n",
    "        f_url = url + \"/\" + operation + \"?\" + \"pageNo\" + \"=\" + pageno + \"&\" + \"numOfRows\" + \"=\" + numofrows + \"&\" + \"dataType\" + \"=\" + datatype + \"&\" + params + \"&\" + codename + \"=\" + \\\n",
    "                code[i] + \"&\" + \"serviceKey\" + \"=\" + serviceKey\n",
    "        f_url.encode('utf-8')\n",
    "        request_query.append(f_url)\n",
    "\n",
    "    return request_query"
   ]
  },
  {
   "cell_type": "code",
   "execution_count": 4,
   "metadata": {},
   "outputs": [],
   "source": [
    "# URL GET\n",
    "def loop_request_query(request_query):\n",
    "    for query in request_query:\n",
    "        response = requests.get(url=query)\n",
    "    return response"
   ]
  },
  {
   "cell_type": "code",
   "execution_count": 5,
   "metadata": {},
   "outputs": [],
   "source": [
    "# XML을 JSON으로 변환\n",
    "def json_response(response):\n",
    "    import xmltodict\n",
    "    json_ = response.text\n",
    "    #print(json_)\n",
    "    jsonString = json.dumps(xmltodict.parse(json_), indent=4)\n",
    "    json_object = json.loads(jsonString)\n",
    "    #print(json_object)\n",
    "    return json_object"
   ]
  },
  {
   "cell_type": "code",
   "execution_count": 14,
   "metadata": {},
   "outputs": [],
   "source": [
    "# 키, 값 형태도 데이터를 추출한 뒤 테이블 생성\n",
    "# API 데이터 중 완벽하지 않은 데이터가 존재하므로, 언패킹 후 패킹 작업 수행\n",
    "def find_json_error(json_object):\n",
    "\n",
    "    key_type = type(json_object['response']['body']['items']['item'])\n",
    "    if key_type == list:\n",
    "        df = json_normalize(json_object['response']['body']['items']['item'])\n",
    "\n",
    "    else:\n",
    "        try:\n",
    "            key_ = json_object['response']['body']['items']['item']['year']['info'][0].keys()\n",
    "            df = json_normalize(json_object['response']['body']['items']['item']['year']['info'])            \n",
    "     \n",
    "        except:\n",
    "            key_ = json_object['response']['body']['items']['item']['temp']['info'][0].keys()\n",
    "            df = json_normalize(json_object['response']['body']['items']['item']['year']['info'])             \n",
    "        \n",
    "    key_ = list(key_)\n",
    "    df.columns = [key_]\n",
    "    return df"
   ]
  },
  {
   "cell_type": "code",
   "execution_count": null,
   "metadata": {},
   "outputs": [],
   "source": [
    "# 테이블 생성\n",
    "#def get_dataframe(json_object):\n",
    "#    df = json_normalize(json_object['response']['body']['items']['item'])\n",
    "#    return df"
   ]
  },
  {
   "cell_type": "code",
   "execution_count": 9,
   "metadata": {},
   "outputs": [],
   "source": [
    "# 실행 및 테이블 저장\n",
    "def main():\n",
    "    request_query = get_data()\n",
    "\n",
    "    response = loop_request_query(request_query)\n",
    "\n",
    "    json_object = json_response(response)\n",
    "\n",
    "    df = find_json_error(json_object)\n",
    "    df_name = input(\"파일명을 입력하시오: \")\n",
    "    df.to_csv('data/' + df_name + '.csv', index=False, encoding='cp949')\n",
    "    df_describe = df.describe()\n",
    "    df_describe.to_csv('data/' + df_name + '_describe.csv', index=True, encoding='cp949')"
   ]
  },
  {
   "cell_type": "code",
   "execution_count": 15,
   "metadata": {},
   "outputs": [
    {
     "name": "stdout",
     "output_type": "stream",
     "text": [
      "URL 주소를 입력하시오: http://apis.data.go.kr/1360000/AwsYearlyInfoService\n",
      "인증키를 입력하시오: 0VPHiLnleAB93gjILfRfKRQcBuFBbb9XArHRML7HRiBSrkUV4GZxTwOsm%2Fm%2FloyDIFYPsLSoNQFg2j%2FAfxNfnQ%3D%3D\n",
      "상세기능명을 입력하시오(영문): getYearSumry\n",
      "한 페이지에 노출할 결과 수를 입력하시오: 999\n",
      "페이지 번호를 입력하시오: 1\n",
      "필수 파라미터명 공백으로 구분하여 입력하시오: year\n",
      "필수 파라미터값 공백으로 구분하여 입력하시오: 2019\n",
      "지점번호, 지역코드와 관련된 항목명을 입력하시오: month\n",
      "지점번호, 지역코드를 입력하시오: 01\n",
      "['http://apis.data.go.kr/1360000/AwsYearlyInfoService/getYearSumry?pageNo=1&numOfRows=999&dataType=XML&year=2019&month=01&serviceKey=0VPHiLnleAB93gjILfRfKRQcBuFBbb9XArHRML7HRiBSrkUV4GZxTwOsm%2Fm%2FloyDIFYPsLSoNQFg2j%2FAfxNfnQ%3D%3D']\n",
      "파일명을 입력하시오: t1\n"
     ]
    }
   ],
   "source": [
    "main()"
   ]
  }
 ],
 "metadata": {
  "kernelspec": {
   "display_name": "Python 3",
   "language": "python",
   "name": "python3"
  },
  "language_info": {
   "codemirror_mode": {
    "name": "ipython",
    "version": 3
   },
   "file_extension": ".py",
   "mimetype": "text/x-python",
   "name": "python",
   "nbconvert_exporter": "python",
   "pygments_lexer": "ipython3",
   "version": "3.7.6"
  }
 },
 "nbformat": 4,
 "nbformat_minor": 4
}
