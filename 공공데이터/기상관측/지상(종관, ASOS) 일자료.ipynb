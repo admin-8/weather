{
 "cells": [
  {
   "cell_type": "code",
   "execution_count": 29,
   "metadata": {},
   "outputs": [],
   "source": [
    "import requests\n",
    "import pandas as pd\n",
    "import json\n",
    "from pandas.io.json import json_normalize\n",
    "from ast import literal_eval\n",
    "import urllib.parse as urlparse\n",
    "import warnings\n",
    "warnings.filterwarnings('ignore')\n",
    "\n",
    "\n",
    "def get_request_query(url, operation, numofrows, pageno, datatype, params, codename, code, serviceKey):\n",
    "    params = literal_eval(params)\n",
    "    params = urlparse.urlencode(params)\n",
    "    request_query = []\n",
    "    for i in range(len(code)):\n",
    "        full_url = url + \"/\" + operation + \"?\" + \"numOfRows=\" + numofrows + \"&pageNo=\" + pageno + \"&dataType=\" + datatype + \"&\"+ params + \"&\" + codename + \"=\" + code[i] + \"&serviceKey=\" + serviceKey\n",
    "    request_query.append(full_url)\n",
    "        \n",
    "    return request_query\n",
    "\n",
    "def loop_request_query(request_query):\n",
    "    for query in request_query:\n",
    "        response = requests.get(url=query)\n",
    "    return response\n",
    "\n",
    "def json_response(response):\n",
    "    json_ = response.text\n",
    "    json_object = json.loads(json_)\n",
    "    return json_object\n",
    "\n",
    "def get_dataframe(json_object):\n",
    "    df = json_normalize(json_object['response']['body']['items']['item'])\n",
    "    return df\n",
    "\n",
    "\n",
    "def get_data():\n",
    "    URL = str(input(\"URL 주소를 입력하시오: \"))\n",
    "    API_KEY = str(input(\"인증키를 입력하시오: \"))\n",
    "    OPERATION = str(input(\"상세기능명을 입력하시오(영문): \"))\n",
    "    NUMOFROWS = str(input(\"한 페이지에 노출할 결과 수를 입력하시오: \"))\n",
    "    PAGENO = str(input(\"페이지 번호를 입력하시오: \"))\n",
    "    DATATYPE = str(input(\"데이터 타입을 입력하시오: \"))\n",
    "    PARAMS_KEY = list(input(\"항목명을 공백으로 구분하여 입력하시오: \").split())\n",
    "    PARAMS_VALUE = list(input(\"항목값을 공백으로 구분하여 입력하시오: \").split())\n",
    "    PARAMS = str(dict(zip(PARAMS_KEY, PARAMS_VALUE)))\n",
    "    CODENAME = str(input('지점번호, 지역코드와 관련된 항목명을 입력하시오: '))\n",
    "    CODE = list(input('지점번호, 지역코드를 입력하시오: ').split())\n",
    "    \n",
    "    request_query = get_request_query(URL, OPERATION, NUMOFROWS, PAGENO, DATATYPE, PARAMS, CODENAME, CODE, API_KEY)\n",
    "    print(request_query)\n",
    "    return request_query\n",
    "\n",
    "def main():    \n",
    "    request_query = get_data()\n",
    "    \n",
    "    response = loop_request_query(request_query)\n",
    "    \n",
    "    json_object = json_response(response)\n",
    "    \n",
    "    df = get_dataframe(json_object)\n",
    "    \n",
    "    df_name = input(\"파일명을 입력하시오: \")\n",
    "    df.to_csv('data/' + df_name + '.csv', index=False, encoding='cp949')\n",
    "    df_describe = df.describe()\n",
    "    df_describe.to_csv('data/' + df_name +'_describe.csv', index=True, encoding='cp949')"
   ]
  },
  {
   "cell_type": "code",
   "execution_count": 30,
   "metadata": {
    "scrolled": true
   },
   "outputs": [
    {
     "name": "stdout",
     "output_type": "stream",
     "text": [
      "URL 주소를 입력하시오: http://apis.data.go.kr/1360000/AsosHourlyInfoService\n",
      "인증키를 입력하시오: 0VPHiLnleAB93gjILfRfKRQcBuFBbb9XArHRML7HRiBSrkUV4GZxTwOsm%2Fm%2FloyDIFYPsLSoNQFg2j%2FAfxNfnQ%3D%3D\n",
      "상세기능명을 입력하시오(영문): getWthrDataList\n",
      "한 페이지에 노출할 결과 수를 입력하시오: 999\n",
      "페이지 번호를 입력하시오: 1\n",
      "데이터 타입을 입력하시오: JSON\n",
      "항목명을 공백으로 구분하여 입력하시오: dataCd dateCd startDt startHh endDt endHh\n",
      "항목값을 공백으로 구분하여 입력하시오: ASOS HR 20200101 01 20200726 01\n",
      "지점번호, 지역코드와 관련된 항목명을 입력하시오: stnIds\n",
      "지점번호, 지역코드를 입력하시오: 108\n",
      "['http://apis.data.go.kr/1360000/AsosHourlyInfoService/getWthrDataList?numOfRows=999&pageNo=1&dataType=JSON&dataCd=ASOS&dateCd=HR&startDt=20200101&startHh=01&endDt=20200726&endHh=01&stnIds=108&serviceKey=0VPHiLnleAB93gjILfRfKRQcBuFBbb9XArHRML7HRiBSrkUV4GZxTwOsm%2Fm%2FloyDIFYPsLSoNQFg2j%2FAfxNfnQ%3D%3D']\n",
      "파일명을 입력하시오: test4\n"
     ]
    }
   ],
   "source": [
    "main()"
   ]
  },
  {
   "cell_type": "code",
   "execution_count": null,
   "metadata": {},
   "outputs": [],
   "source": []
  },
  {
   "cell_type": "markdown",
   "metadata": {},
   "source": [
    "http://apis.data.go.kr/1360000/AsosHourlyInfoService\n",
    "\n",
    "0VPHiLnleAB93gjILfRfKRQcBuFBbb9XArHRML7HRiBSrkUV4GZxTwOsm%2Fm%2FloyDIFYPsLSoNQFg2j%2FAfxNfnQ%3D%3D\n",
    "\n",
    "getWthrDataList\n",
    "\n",
    "dataCd dateCd startDt startHh endDt endHh\n",
    "\n",
    "ASOS HR 20200101 01 20200726 01\n"
   ]
  },
  {
   "cell_type": "code",
   "execution_count": null,
   "metadata": {},
   "outputs": [],
   "source": []
  },
  {
   "cell_type": "code",
   "execution_count": null,
   "metadata": {},
   "outputs": [],
   "source": []
  },
  {
   "cell_type": "code",
   "execution_count": null,
   "metadata": {},
   "outputs": [],
   "source": []
  },
  {
   "cell_type": "code",
   "execution_count": null,
   "metadata": {},
   "outputs": [],
   "source": []
  },
  {
   "cell_type": "code",
   "execution_count": null,
   "metadata": {},
   "outputs": [],
   "source": []
  },
  {
   "cell_type": "code",
   "execution_count": null,
   "metadata": {},
   "outputs": [],
   "source": []
  }
 ],
 "metadata": {
  "kernelspec": {
   "display_name": "Python 3",
   "language": "python",
   "name": "python3"
  },
  "language_info": {
   "codemirror_mode": {
    "name": "ipython",
    "version": 3
   },
   "file_extension": ".py",
   "mimetype": "text/x-python",
   "name": "python",
   "nbconvert_exporter": "python",
   "pygments_lexer": "ipython3",
   "version": "3.7.6"
  }
 },
 "nbformat": 4,
 "nbformat_minor": 4
}
